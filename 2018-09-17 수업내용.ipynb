{
 "cells": [
  {
   "cell_type": "code",
   "execution_count": 1,
   "metadata": {},
   "outputs": [],
   "source": [
    "level = ()\n",
    "\n",
    "def outer():\n",
    "    level = 50\n",
    "    \n",
    "    def inner():\n",
    "        nonlocal level\n",
    "        level += 3\n",
    "        print(level)\n",
    "    return inner\n",
    "\n",
    "\n",
    "f1 = outer()"
   ]
  },
  {
   "cell_type": "code",
   "execution_count": 2,
   "metadata": {},
   "outputs": [
    {
     "name": "stdout",
     "output_type": "stream",
     "text": [
      "53\n"
     ]
    }
   ],
   "source": [
    "f1()"
   ]
  },
  {
   "cell_type": "code",
   "execution_count": 3,
   "metadata": {},
   "outputs": [
    {
     "name": "stdout",
     "output_type": "stream",
     "text": [
      "56\n"
     ]
    }
   ],
   "source": [
    "f1()"
   ]
  },
  {
   "cell_type": "code",
   "execution_count": 4,
   "metadata": {},
   "outputs": [],
   "source": [
    "f2 = outer()"
   ]
  },
  {
   "cell_type": "code",
   "execution_count": 5,
   "metadata": {},
   "outputs": [
    {
     "name": "stdout",
     "output_type": "stream",
     "text": [
      "53\n"
     ]
    }
   ],
   "source": [
    "f2()"
   ]
  },
  {
   "cell_type": "code",
   "execution_count": 6,
   "metadata": {},
   "outputs": [
    {
     "name": "stdout",
     "output_type": "stream",
     "text": [
      "59\n"
     ]
    }
   ],
   "source": [
    "f1()"
   ]
  },
  {
   "cell_type": "markdown",
   "metadata": {},
   "source": [
    "## Decorator"
   ]
  },
  {
   "cell_type": "code",
   "execution_count": 24,
   "metadata": {},
   "outputs": [],
   "source": [
    "def square(x):\n",
    "    result = x ** 2\n",
    "    return result\n",
    "\n",
    "def multi(x, y):\n",
    "    result = x * y\n",
    "    return result"
   ]
  },
  {
   "cell_type": "code",
   "execution_count": 25,
   "metadata": {},
   "outputs": [],
   "source": [
    "result1 = square(3)"
   ]
  },
  {
   "cell_type": "code",
   "execution_count": 26,
   "metadata": {},
   "outputs": [],
   "source": [
    "result2 = multi(3, 5)"
   ]
  },
  {
   "cell_type": "code",
   "execution_count": 31,
   "metadata": {},
   "outputs": [],
   "source": [
    "# def debug\n",
    "\n",
    "# 1. 매개변수로 함수 하나를 사용(호출시 함수 인자 하나를 받음)\n",
    "#  매개변수명은 \"f\"사용\n",
    "# 2. 내장함수 wrap를 정의\n",
    "#     wrap함수는 위치인자 묶음과 키워드인자 묶음을 모두 받을 수 있도록 정의\n",
    "# 3. wrap함수의 내부에서 매개변수 \"f\"를 실행\n",
    "#       f실행시 인자에 wrap함수의 매개변수로 주어진 *args, **kwargs를 전달\n",
    "#       -> 결과를 result에 할당\n",
    "# 4. wrap함수의 마지막에서 result값을 리턴\n",
    "# 5. debug함수의 마지막에서 wrap함수 자체를 리턴(wrap함수 실행 결과가 아님)\n",
    "\n",
    "# debug함수의 인자로 square(또는 multi)함수 자체를 전달\n",
    "# 결과값을 decorated_square(또는 decorated_multi) 변수에 할당\n",
    "# 새 변수(함수가 정의됨)를 실행해보기\n",
    "\n",
    "def debug(f):\n",
    "    def wrap(*args, **kwargs):\n",
    "        result = f(*args, **kwargs)\n",
    "        print('위치인자 목록:', args)\n",
    "        print('키워드인자 목록:', kwargs)\n",
    "        print('결과값:', result)\n",
    "        return result\n",
    "    return wrap"
   ]
  },
  {
   "cell_type": "code",
   "execution_count": 32,
   "metadata": {},
   "outputs": [],
   "source": [
    "decorated_square = debug(square)"
   ]
  },
  {
   "cell_type": "code",
   "execution_count": 33,
   "metadata": {},
   "outputs": [
    {
     "name": "stdout",
     "output_type": "stream",
     "text": [
      "위치인자 목록: (3,)\n",
      "키워드인자 목록: {}\n",
      "결과값: 9\n"
     ]
    },
    {
     "data": {
      "text/plain": [
       "9"
      ]
     },
     "execution_count": 33,
     "metadata": {},
     "output_type": "execute_result"
    }
   ],
   "source": [
    "decorated_square(3)"
   ]
  },
  {
   "cell_type": "code",
   "execution_count": 34,
   "metadata": {},
   "outputs": [],
   "source": [
    "decorated_multi = debug(multi)"
   ]
  },
  {
   "cell_type": "code",
   "execution_count": 36,
   "metadata": {},
   "outputs": [
    {
     "name": "stdout",
     "output_type": "stream",
     "text": [
      "위치인자 목록: (3, 5)\n",
      "키워드인자 목록: {}\n",
      "결과값: 15\n"
     ]
    },
    {
     "data": {
      "text/plain": [
       "15"
      ]
     },
     "execution_count": 36,
     "metadata": {},
     "output_type": "execute_result"
    }
   ],
   "source": [
    "decorated_multi(3, 5)"
   ]
  },
  {
   "cell_type": "code",
   "execution_count": 37,
   "metadata": {},
   "outputs": [],
   "source": [
    "@debug\n",
    "def square(x):\n",
    "    result = x ** 2\n",
    "    return result\n",
    "\n",
    "@debug\n",
    "def multi(x, y):\n",
    "    result = x * y\n",
    "    return result"
   ]
  },
  {
   "cell_type": "code",
   "execution_count": 38,
   "metadata": {},
   "outputs": [
    {
     "name": "stdout",
     "output_type": "stream",
     "text": [
      "위치인자 목록: (3,)\n",
      "키워드인자 목록: {}\n",
      "결과값: 9\n"
     ]
    },
    {
     "data": {
      "text/plain": [
       "9"
      ]
     },
     "execution_count": 38,
     "metadata": {},
     "output_type": "execute_result"
    }
   ],
   "source": [
    "square(3)"
   ]
  },
  {
   "cell_type": "code",
   "execution_count": 41,
   "metadata": {},
   "outputs": [],
   "source": [
    "def range_gen(num):\n",
    "    i = 0\n",
    "    while i < num:\n",
    "        yield i\n",
    "        i += 1"
   ]
  },
  {
   "cell_type": "code",
   "execution_count": 42,
   "metadata": {},
   "outputs": [],
   "source": [
    "result = range_gen(10)"
   ]
  },
  {
   "cell_type": "code",
   "execution_count": 44,
   "metadata": {},
   "outputs": [
    {
     "name": "stdout",
     "output_type": "stream",
     "text": [
      "<class 'generator'>\n",
      "<generator object range_gen at 0x7f12546d2200>\n"
     ]
    }
   ],
   "source": [
    "print(type(result))\n",
    "print(result)"
   ]
  },
  {
   "cell_type": "code",
   "execution_count": 48,
   "metadata": {},
   "outputs": [],
   "source": [
    "for i in result:\n",
    "    print(i)"
   ]
  },
  {
   "cell_type": "code",
   "execution_count": 49,
   "metadata": {},
   "outputs": [
    {
     "data": {
      "text/plain": [
       "<method-wrapper '__next__' of generator object at 0x7f12546d2200>"
      ]
     },
     "execution_count": 49,
     "metadata": {},
     "output_type": "execute_result"
    }
   ],
   "source": [
    "result.__next__"
   ]
  },
  {
   "cell_type": "code",
   "execution_count": 50,
   "metadata": {},
   "outputs": [
    {
     "ename": "StopIteration",
     "evalue": "",
     "output_type": "error",
     "traceback": [
      "\u001b[0;31m---------------------------------------------------------------------------\u001b[0m",
      "\u001b[0;31mStopIteration\u001b[0m                             Traceback (most recent call last)",
      "\u001b[0;32m<ipython-input-50-50b54792e3ae>\u001b[0m in \u001b[0;36m<module>\u001b[0;34m()\u001b[0m\n\u001b[0;32m----> 1\u001b[0;31m \u001b[0mresult\u001b[0m\u001b[0;34m.\u001b[0m\u001b[0m__next__\u001b[0m\u001b[0;34m(\u001b[0m\u001b[0;34m)\u001b[0m\u001b[0;34m\u001b[0m\u001b[0m\n\u001b[0m",
      "\u001b[0;31mStopIteration\u001b[0m: "
     ]
    }
   ],
   "source": [
    "result.__next__()"
   ]
  },
  {
   "cell_type": "code",
   "execution_count": 135,
   "metadata": {},
   "outputs": [],
   "source": [
    "def fruits(str):\n",
    "    \"\"\"\n",
    "    매개변수로 문자열을 받고\n",
    "    문자열이 red면 apple을\n",
    "    yellow면 banana\n",
    "    green이면 melon\n",
    "    어떤 경우도 아니면 I don't know를 리턴하는 함수\n",
    "    \"\"\"\n",
    "    if str == 'red':\n",
    "        return 'apple'\n",
    "    elif str == 'yellow':\n",
    "        return 'banana'\n",
    "    elif str == 'green':\n",
    "        return 'melon'\n",
    "    else:\n",
    "        return \"I don't know\""
   ]
  },
  {
   "cell_type": "code",
   "execution_count": 136,
   "metadata": {},
   "outputs": [],
   "source": [
    "color_fruit_dict = {\n",
    "    'red': 'apple',\n",
    "    'yellow': 'banana',\n",
    "    'green': 'melon',\n",
    "}"
   ]
  },
  {
   "cell_type": "code",
   "execution_count": 140,
   "metadata": {},
   "outputs": [],
   "source": [
    "def what_fruit2(color):\n",
    "    return color_fruit_dict.get(color, \"I don't know\")"
   ]
  },
  {
   "cell_type": "code",
   "execution_count": 142,
   "metadata": {},
   "outputs": [
    {
     "data": {
      "text/plain": [
       "'apple'"
      ]
     },
     "execution_count": 142,
     "metadata": {},
     "output_type": "execute_result"
    }
   ],
   "source": [
    "what_fruit2('red')"
   ]
  },
  {
   "cell_type": "code",
   "execution_count": 59,
   "metadata": {},
   "outputs": [],
   "source": [
    "result = fruits('what')"
   ]
  },
  {
   "cell_type": "code",
   "execution_count": 60,
   "metadata": {},
   "outputs": [
    {
     "name": "stdout",
     "output_type": "stream",
     "text": [
      "I don't know\n"
     ]
    }
   ],
   "source": [
    "print(result)"
   ]
  },
  {
   "cell_type": "code",
   "execution_count": 143,
   "metadata": {},
   "outputs": [
    {
     "name": "stdout",
     "output_type": "stream",
     "text": [
      "Help on function fruits in module __main__:\n",
      "\n",
      "fruits(str)\n",
      "    매개변수로 문자열을 받고\n",
      "    문자열이 red면 apple을\n",
      "    yellow면 banana\n",
      "    green이면 melon\n",
      "    어떤 경우도 아니면 I don't know를 리턴하는 함수\n",
      "\n"
     ]
    }
   ],
   "source": [
    "help(fruits)"
   ]
  },
  {
   "cell_type": "code",
   "execution_count": null,
   "metadata": {},
   "outputs": [],
   "source": [
    "def square_or_multi(*args):\n",
    "    if len(args) > 1:\n",
    "        return args[0] * args[1]\n",
    "    return args[0] ** 2"
   ]
  },
  {
   "cell_type": "code",
   "execution_count": 144,
   "metadata": {},
   "outputs": [],
   "source": [
    "def square_or_multi(arg1, arg2=None):\n",
    "    if arg2:\n",
    "        return arg1 ** 2\n",
    "    else:\n",
    "        return arg1 * arg2"
   ]
  },
  {
   "cell_type": "markdown",
   "metadata": {},
   "source": [
    "# * 과 **"
   ]
  },
  {
   "cell_type": "code",
   "execution_count": 146,
   "metadata": {},
   "outputs": [],
   "source": [
    "def abcd(a, b, c, d):\n",
    "    print(a,b,c,d)"
   ]
  },
  {
   "cell_type": "code",
   "execution_count": 147,
   "metadata": {},
   "outputs": [
    {
     "name": "stdout",
     "output_type": "stream",
     "text": [
      "1 2 3 4\n"
     ]
    }
   ],
   "source": [
    "abcd(1, 2, 3, 4)"
   ]
  },
  {
   "cell_type": "code",
   "execution_count": 109,
   "metadata": {},
   "outputs": [
    {
     "name": "stdout",
     "output_type": "stream",
     "text": [
      "25\n"
     ]
    }
   ],
   "source": [
    "result1 = square_or_multi(5)\n",
    "print(result1)"
   ]
  },
  {
   "cell_type": "code",
   "execution_count": 111,
   "metadata": {},
   "outputs": [
    {
     "name": "stdout",
     "output_type": "stream",
     "text": [
      "15\n"
     ]
    }
   ],
   "source": [
    "result2 = square_or_multi(3,5)\n",
    "print(result2)"
   ]
  },
  {
   "cell_type": "code",
   "execution_count": 152,
   "metadata": {},
   "outputs": [],
   "source": [
    "def math(x, y):\n",
    "    return x+y, x-y if x > y else y - x"
   ]
  },
  {
   "cell_type": "code",
   "execution_count": 153,
   "metadata": {},
   "outputs": [
    {
     "data": {
      "text/plain": [
       "(17, 3)"
      ]
     },
     "execution_count": 153,
     "metadata": {},
     "output_type": "execute_result"
    }
   ],
   "source": [
    "math(7, 10)"
   ]
  },
  {
   "cell_type": "code",
   "execution_count": 122,
   "metadata": {},
   "outputs": [],
   "source": [
    "def wich(*args):\n",
    "    print('위치인자 {}개 전달됨'.format(len(args)))\n",
    "    return len(args)"
   ]
  },
  {
   "cell_type": "code",
   "execution_count": 124,
   "metadata": {},
   "outputs": [
    {
     "name": "stdout",
     "output_type": "stream",
     "text": [
      "위치인자 3개 전달됨\n"
     ]
    },
    {
     "data": {
      "text/plain": [
       "3"
      ]
     },
     "execution_count": 124,
     "metadata": {},
     "output_type": "execute_result"
    }
   ],
   "source": [
    "wich(3, 4, 5)"
   ]
  },
  {
   "cell_type": "code",
   "execution_count": 154,
   "metadata": {},
   "outputs": [
    {
     "data": {
      "text/plain": [
       "['2 x 1 = 2',\n",
       " '2 x 2 = 4',\n",
       " '2 x 3 = 6',\n",
       " '2 x 4 = 8',\n",
       " '2 x 5 = 10',\n",
       " '2 x 6 = 12',\n",
       " '2 x 7 = 14',\n",
       " '2 x 8 = 16',\n",
       " '2 x 9 = 18',\n",
       " '3 x 1 = 3',\n",
       " '3 x 2 = 6',\n",
       " '3 x 3 = 9',\n",
       " '3 x 4 = 12',\n",
       " '3 x 5 = 15',\n",
       " '3 x 6 = 18',\n",
       " '3 x 7 = 21',\n",
       " '3 x 8 = 24',\n",
       " '3 x 9 = 27',\n",
       " '4 x 1 = 4',\n",
       " '4 x 2 = 8',\n",
       " '4 x 3 = 12',\n",
       " '4 x 4 = 16',\n",
       " '4 x 5 = 20',\n",
       " '4 x 6 = 24',\n",
       " '4 x 7 = 28',\n",
       " '4 x 8 = 32',\n",
       " '4 x 9 = 36',\n",
       " '5 x 1 = 5',\n",
       " '5 x 2 = 10',\n",
       " '5 x 3 = 15',\n",
       " '5 x 4 = 20',\n",
       " '5 x 5 = 25',\n",
       " '5 x 6 = 30',\n",
       " '5 x 7 = 35',\n",
       " '5 x 8 = 40',\n",
       " '5 x 9 = 45',\n",
       " '6 x 1 = 6',\n",
       " '6 x 2 = 12',\n",
       " '6 x 3 = 18',\n",
       " '6 x 4 = 24',\n",
       " '6 x 5 = 30',\n",
       " '6 x 6 = 36',\n",
       " '6 x 7 = 42',\n",
       " '6 x 8 = 48',\n",
       " '6 x 9 = 54',\n",
       " '7 x 1 = 7',\n",
       " '7 x 2 = 14',\n",
       " '7 x 3 = 21',\n",
       " '7 x 4 = 28',\n",
       " '7 x 5 = 35',\n",
       " '7 x 6 = 42',\n",
       " '7 x 7 = 49',\n",
       " '7 x 8 = 56',\n",
       " '7 x 9 = 63',\n",
       " '8 x 1 = 8',\n",
       " '8 x 2 = 16',\n",
       " '8 x 3 = 24',\n",
       " '8 x 4 = 32',\n",
       " '8 x 5 = 40',\n",
       " '8 x 6 = 48',\n",
       " '8 x 7 = 56',\n",
       " '8 x 8 = 64',\n",
       " '8 x 9 = 72',\n",
       " '9 x 1 = 9',\n",
       " '9 x 2 = 18',\n",
       " '9 x 3 = 27',\n",
       " '9 x 4 = 36',\n",
       " '9 x 5 = 45',\n",
       " '9 x 6 = 54',\n",
       " '9 x 7 = 63',\n",
       " '9 x 8 = 72',\n",
       " '9 x 9 = 81']"
      ]
     },
     "execution_count": 154,
     "metadata": {},
     "output_type": "execute_result"
    }
   ],
   "source": [
    "[(lambda x, y : f'{x} x {y} = {x*y}')(x, y) for x in range(2, 10) for y in range(1, 10)]"
   ]
  },
  {
   "cell_type": "code",
   "execution_count": 155,
   "metadata": {},
   "outputs": [],
   "source": [
    "def make_str(x, y):\n",
    "    return '{} x {} = {}'.format(x, y, x*y)"
   ]
  },
  {
   "cell_type": "code",
   "execution_count": 156,
   "metadata": {},
   "outputs": [],
   "source": [
    "multiplication_table1 = [make_str(a, b) for a in range(2, 10) for b in range(1, 10)]"
   ]
  },
  {
   "cell_type": "code",
   "execution_count": 157,
   "metadata": {},
   "outputs": [
    {
     "name": "stdout",
     "output_type": "stream",
     "text": [
      "['2 x 1 = 2', '2 x 2 = 4', '2 x 3 = 6', '2 x 4 = 8', '2 x 5 = 10', '2 x 6 = 12', '2 x 7 = 14', '2 x 8 = 16', '2 x 9 = 18', '3 x 1 = 3', '3 x 2 = 6', '3 x 3 = 9', '3 x 4 = 12', '3 x 5 = 15', '3 x 6 = 18', '3 x 7 = 21', '3 x 8 = 24', '3 x 9 = 27', '4 x 1 = 4', '4 x 2 = 8', '4 x 3 = 12', '4 x 4 = 16', '4 x 5 = 20', '4 x 6 = 24', '4 x 7 = 28', '4 x 8 = 32', '4 x 9 = 36', '5 x 1 = 5', '5 x 2 = 10', '5 x 3 = 15', '5 x 4 = 20', '5 x 5 = 25', '5 x 6 = 30', '5 x 7 = 35', '5 x 8 = 40', '5 x 9 = 45', '6 x 1 = 6', '6 x 2 = 12', '6 x 3 = 18', '6 x 4 = 24', '6 x 5 = 30', '6 x 6 = 36', '6 x 7 = 42', '6 x 8 = 48', '6 x 9 = 54', '7 x 1 = 7', '7 x 2 = 14', '7 x 3 = 21', '7 x 4 = 28', '7 x 5 = 35', '7 x 6 = 42', '7 x 7 = 49', '7 x 8 = 56', '7 x 9 = 63', '8 x 1 = 8', '8 x 2 = 16', '8 x 3 = 24', '8 x 4 = 32', '8 x 5 = 40', '8 x 6 = 48', '8 x 7 = 56', '8 x 8 = 64', '8 x 9 = 72', '9 x 1 = 9', '9 x 2 = 18', '9 x 3 = 27', '9 x 4 = 36', '9 x 5 = 45', '9 x 6 = 54', '9 x 7 = 63', '9 x 8 = 72', '9 x 9 = 81']\n"
     ]
    }
   ],
   "source": [
    "print(multiplication_table1)"
   ]
  },
  {
   "cell_type": "markdown",
   "metadata": {},
   "source": [
    "#  알고리즘"
   ]
  },
  {
   "cell_type": "code",
   "execution_count": 168,
   "metadata": {},
   "outputs": [],
   "source": [
    "def sequential_search(string, key):\n",
    "    index = 0\n",
    "    # string(문자열)을 각 문자단위로 순회\n",
    "    while index < len(string):\n",
    "        # 현재 순회중인 문자와 매개변수의'key'가 같은 값인지 확인\n",
    "        if string[index] == key:\n",
    "            # 같다면 기억중이던 loop count(index)를 리턴\n",
    "            return index\n",
    "        # 다음 순회시에 참조할 문자열의 in\n",
    "        index += 1\n",
    "    else:\n",
    "        return -1"
   ]
  },
  {
   "cell_type": "code",
   "execution_count": 169,
   "metadata": {},
   "outputs": [
    {
     "name": "stdout",
     "output_type": "stream",
     "text": [
      "-1\n"
     ]
    }
   ],
   "source": [
    "result = sequential_search('abcde', 'f')\n",
    "print(result)"
   ]
  },
  {
   "cell_type": "code",
   "execution_count": 188,
   "metadata": {},
   "outputs": [],
   "source": [
    "def sequential_search(string, key):\n",
    "    for index, item in enumerate(string):\n",
    "        if item == key:\n",
    "            return index\n",
    "    else:\n",
    "        return -1"
   ]
  },
  {
   "cell_type": "code",
   "execution_count": 190,
   "metadata": {},
   "outputs": [
    {
     "name": "stdout",
     "output_type": "stream",
     "text": [
      "-1\n"
     ]
    }
   ],
   "source": [
    "result1 = sequential_search('abcde', 'f')\n",
    "print(result1)"
   ]
  },
  {
   "cell_type": "code",
   "execution_count": 192,
   "metadata": {},
   "outputs": [],
   "source": [
    "li = [9, 1, 6, 8, 4, 3, 2, 0, 5, 7]"
   ]
  },
  {
   "cell_type": "code",
   "execution_count": 233,
   "metadata": {},
   "outputs": [
    {
     "name": "stdout",
     "output_type": "stream",
     "text": [
      "0번째 loop, 현재 리스트 상황: [9, 1, 6, 8, 4, 3, 2, 0, 5, 7]\n",
      "0번째 loop의 최소 index는 7, 값은: 0\n",
      "0번째 loop, 현재 리스트 상황: [0, 1, 6, 8, 4, 3, 2, 9, 5, 7]\n",
      "\n",
      "1번째 loop, 현재 리스트 상황: [0, 1, 6, 8, 4, 3, 2, 9, 5, 7]\n",
      "1번째 loop의 최소 index는 1, 값은: 1\n",
      "1번째 loop, 현재 리스트 상황: [0, 1, 6, 8, 4, 3, 2, 9, 5, 7]\n",
      "\n",
      "2번째 loop, 현재 리스트 상황: [0, 1, 6, 8, 4, 3, 2, 9, 5, 7]\n",
      "2번째 loop의 최소 index는 6, 값은: 2\n",
      "2번째 loop, 현재 리스트 상황: [0, 1, 2, 8, 4, 3, 6, 9, 5, 7]\n",
      "\n",
      "3번째 loop, 현재 리스트 상황: [0, 1, 2, 8, 4, 3, 6, 9, 5, 7]\n",
      "3번째 loop의 최소 index는 5, 값은: 3\n",
      "3번째 loop, 현재 리스트 상황: [0, 1, 2, 3, 4, 8, 6, 9, 5, 7]\n",
      "\n",
      "4번째 loop, 현재 리스트 상황: [0, 1, 2, 3, 4, 8, 6, 9, 5, 7]\n",
      "4번째 loop의 최소 index는 4, 값은: 4\n",
      "4번째 loop, 현재 리스트 상황: [0, 1, 2, 3, 4, 8, 6, 9, 5, 7]\n",
      "\n",
      "5번째 loop, 현재 리스트 상황: [0, 1, 2, 3, 4, 8, 6, 9, 5, 7]\n",
      "5번째 loop의 최소 index는 8, 값은: 5\n",
      "5번째 loop, 현재 리스트 상황: [0, 1, 2, 3, 4, 5, 6, 9, 8, 7]\n",
      "\n",
      "6번째 loop, 현재 리스트 상황: [0, 1, 2, 3, 4, 5, 6, 9, 8, 7]\n",
      "6번째 loop의 최소 index는 6, 값은: 6\n",
      "6번째 loop, 현재 리스트 상황: [0, 1, 2, 3, 4, 5, 6, 9, 8, 7]\n",
      "\n",
      "7번째 loop, 현재 리스트 상황: [0, 1, 2, 3, 4, 5, 6, 9, 8, 7]\n",
      "7번째 loop의 최소 index는 9, 값은: 7\n",
      "7번째 loop, 현재 리스트 상황: [0, 1, 2, 3, 4, 5, 6, 7, 8, 9]\n",
      "\n",
      "8번째 loop, 현재 리스트 상황: [0, 1, 2, 3, 4, 5, 6, 7, 8, 9]\n",
      "8번째 loop의 최소 index는 8, 값은: 8\n",
      "8번째 loop, 현재 리스트 상황: [0, 1, 2, 3, 4, 5, 6, 7, 8, 9]\n",
      "\n"
     ]
    }
   ],
   "source": [
    "for x in range(len(li) -1):\n",
    "    # x: 외부 loop의 index (리스트 길이 -1번 만큼 순회중인 index)\n",
    "    # 내부에서 다시 새로운 for-loop를 진행\n",
    "    # (x부터 리스트 끝까지)\n",
    "    # 해당 내부loop에서의 최소값과 그 index를 기억\n",
    "    # loop가 끝난 후, 최소값을 가진 index와 x index의 값들을 서로 교환\n",
    "    \n",
    "    # x번째 loop에서의 최소값을 가진 index를 저장할 변수\n",
    "    cur_min_index = x\n",
    "    for y in range(x, len(li)):\n",
    "        # y: 내부 loop의 index (x부터 리스트 끝까지 순회중인 상황에서의 index)\n",
    "        # 만약 저장해 두었던 index에 해당하는 값보다 현재 값이 더 작다면\n",
    "        # cur_min_index값을 현재 index로 대체\n",
    "        if li[cur_min_index] > li[y]:\n",
    "            cur_min_index = y\n",
    "    print(f'{x}번째 loop, 현재 리스트 상황: {li}')\n",
    "    print(f'{x}번째 loop의 최소 index는 {cur_min_index}, 값은: {li[cur_min_index]}')\n",
    "    li[cur_min_index], li[x] = li[x], li[cur_min_index]\n",
    "    print(f'{x}번째 loop, 현재 리스트 상황: {li}')\n",
    "    print()"
   ]
  },
  {
   "cell_type": "code",
   "execution_count": null,
   "metadata": {},
   "outputs": [],
   "source": []
  },
  {
   "cell_type": "code",
   "execution_count": null,
   "metadata": {},
   "outputs": [],
   "source": []
  }
 ],
 "metadata": {
  "kernelspec": {
   "display_name": "Python 3",
   "language": "python",
   "name": "python3"
  },
  "language_info": {
   "codemirror_mode": {
    "name": "ipython",
    "version": 3
   },
   "file_extension": ".py",
   "mimetype": "text/x-python",
   "name": "python",
   "nbconvert_exporter": "python",
   "pygments_lexer": "ipython3",
   "version": "3.6.6"
  }
 },
 "nbformat": 4,
 "nbformat_minor": 2
}
