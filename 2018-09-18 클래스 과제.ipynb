{
 "cells": [
  {
   "cell_type": "code",
   "execution_count": 14,
   "metadata": {},
   "outputs": [],
   "source": [
    "class Library():\n",
    "    \"\"\"\n",
    "    도서관\n",
    "    \"\"\"\n",
    "    def __init__(self, name):\n",
    "        self.name = name\n",
    "        self.book_list = []\n",
    "    \n",
    "    def add_book(self, book):\n",
    "        if book not in self.book_list:\n",
    "            self.book_list.append(book.title)\n",
    "            book.location += self.name\n",
    "        else:\n",
    "            return f\n",
    "        \n",
    "    def remove_book(self, book):\n",
    "        if book in self.book_list:\n",
    "            self.book_list.remove(book.title)\n",
    "            book.location -= self.name\n",
    "    \n",
    "    @property\n",
    "    def info(self):\n",
    "        print(\n",
    "            f'도서관명 : {self.name}\\n'\n",
    "            f'가지고 있는 도서 목록 : {self.book_list}'\n",
    "        )\n",
    "    \n",
    "class Book():\n",
    "    \"\"\"\n",
    "    책 클래스\n",
    "    \"\"\"\n",
    "    def __init__(self, title):\n",
    "        self.title = title\n",
    "        self.location = ''\n",
    "    \n",
    "        \n",
    "    @property\n",
    "    def is_borrowed(self):\n",
    "        return f'({self.title} 책은 {self.location} (에/에게) 있어요'\n",
    "        \n",
    "        \n",
    "class User():\n",
    "    def __init__(self, name):\n",
    "        self.name = name\n",
    "        self.book_list = []\n",
    "        \n",
    "    def borrow_book(self, library, book):\n",
    "        if book.title in library.book_list:\n",
    "            library.book_list.remove(book.title)\n",
    "            self.book_list.append(book.title)\n",
    "            book.location = ''\n",
    "            book.location += self.name\n",
    "        \n",
    "    \n",
    "    def return_book(self, library, book):\n",
    "        if book.title in self.book_list:\n",
    "            self.book_list.remove(book.title)\n",
    "            library.book_list.append(book.title)\n",
    "            book.location = ''\n",
    "            book.location += library.name\n",
    "    \n",
    "    @property\n",
    "    def info(self):\n",
    "        print(f'가지고 있는 도서 목록: {self.book_list}')"
   ]
  },
  {
   "cell_type": "code",
   "execution_count": 15,
   "metadata": {},
   "outputs": [],
   "source": [
    "library = Library('중랑도서관')\n",
    "u1 = User('권순우')"
   ]
  },
  {
   "cell_type": "code",
   "execution_count": 16,
   "metadata": {},
   "outputs": [],
   "source": [
    "b1 = Book('파이썬 개어려움')\n",
    "b2 = Book('그럼 장고는 쉽냐')\n",
    "b3 = Book('프로그래밍은 다음 생애에..')\n",
    "b4 = Book('가즈아')\n",
    "b5 = Book('디장고 아니고 쟁고')"
   ]
  },
  {
   "cell_type": "code",
   "execution_count": 17,
   "metadata": {},
   "outputs": [],
   "source": [
    "library.add_book(b1)\n",
    "library.add_book(b2)\n",
    "library.add_book(b3)\n",
    "library.add_book(b4)\n",
    "library.add_book(b5)"
   ]
  },
  {
   "cell_type": "code",
   "execution_count": 18,
   "metadata": {},
   "outputs": [
    {
     "name": "stdout",
     "output_type": "stream",
     "text": [
      "도서관명 : 중랑도서관\n",
      "가지고 있는 도서 목록 : ['파이썬 개어려움', '그럼 장고는 쉽냐', '프로그래밍은 다음 생애에..', '가즈아', '디장고 아니고 쟁고']\n"
     ]
    }
   ],
   "source": [
    "library.info"
   ]
  },
  {
   "cell_type": "code",
   "execution_count": 19,
   "metadata": {},
   "outputs": [],
   "source": [
    "u1.borrow_book(library, b1)"
   ]
  },
  {
   "cell_type": "code",
   "execution_count": 20,
   "metadata": {},
   "outputs": [
    {
     "data": {
      "text/plain": [
       "['그럼 장고는 쉽냐', '프로그래밍은 다음 생애에..', '가즈아', '디장고 아니고 쟁고']"
      ]
     },
     "execution_count": 20,
     "metadata": {},
     "output_type": "execute_result"
    }
   ],
   "source": [
    "library.book_list"
   ]
  },
  {
   "cell_type": "code",
   "execution_count": 21,
   "metadata": {},
   "outputs": [
    {
     "data": {
      "text/plain": [
       "['파이썬 개어려움']"
      ]
     },
     "execution_count": 21,
     "metadata": {},
     "output_type": "execute_result"
    }
   ],
   "source": [
    "u1.book_list"
   ]
  },
  {
   "cell_type": "code",
   "execution_count": 22,
   "metadata": {},
   "outputs": [
    {
     "data": {
      "text/plain": [
       "'파이썬 개어려움은/는 권순우에/에게 있어요'"
      ]
     },
     "execution_count": 22,
     "metadata": {},
     "output_type": "execute_result"
    }
   ],
   "source": [
    "b1.is_borrowed"
   ]
  },
  {
   "cell_type": "code",
   "execution_count": 23,
   "metadata": {},
   "outputs": [],
   "source": [
    "u1.return_book(library, b1)"
   ]
  },
  {
   "cell_type": "code",
   "execution_count": 24,
   "metadata": {},
   "outputs": [
    {
     "data": {
      "text/plain": [
       "['그럼 장고는 쉽냐', '프로그래밍은 다음 생애에..', '가즈아', '디장고 아니고 쟁고', '파이썬 개어려움']"
      ]
     },
     "execution_count": 24,
     "metadata": {},
     "output_type": "execute_result"
    }
   ],
   "source": [
    "library.book_list"
   ]
  },
  {
   "cell_type": "code",
   "execution_count": 25,
   "metadata": {},
   "outputs": [
    {
     "data": {
      "text/plain": [
       "[]"
      ]
     },
     "execution_count": 25,
     "metadata": {},
     "output_type": "execute_result"
    }
   ],
   "source": [
    "u1.book_list"
   ]
  },
  {
   "cell_type": "code",
   "execution_count": 26,
   "metadata": {},
   "outputs": [
    {
     "data": {
      "text/plain": [
       "'파이썬 개어려움은/는 중랑도서관에/에게 있어요'"
      ]
     },
     "execution_count": 26,
     "metadata": {},
     "output_type": "execute_result"
    }
   ],
   "source": [
    "b1.is_borrowed"
   ]
  },
  {
   "cell_type": "code",
   "execution_count": null,
   "metadata": {},
   "outputs": [],
   "source": []
  },
  {
   "cell_type": "code",
   "execution_count": null,
   "metadata": {},
   "outputs": [],
   "source": []
  }
 ],
 "metadata": {
  "kernelspec": {
   "display_name": "Python 3",
   "language": "python",
   "name": "python3"
  },
  "language_info": {
   "codemirror_mode": {
    "name": "ipython",
    "version": 3
   },
   "file_extension": ".py",
   "mimetype": "text/x-python",
   "name": "python",
   "nbconvert_exporter": "python",
   "pygments_lexer": "ipython3",
   "version": "3.6.6"
  }
 },
 "nbformat": 4,
 "nbformat_minor": 2
}
