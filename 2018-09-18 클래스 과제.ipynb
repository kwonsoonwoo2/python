{
 "cells": [
  {
   "cell_type": "code",
   "execution_count": 9,
   "metadata": {},
   "outputs": [],
   "source": [
    "class Library():\n",
    "    def __init__(self, name):\n",
    "        self.name = name\n",
    "        self.book_list = []\n",
    "    \n",
    "    def add_book(self, book):\n",
    "        if book not in self.book_list:\n",
    "            return self.book_list.append(book.title)\n",
    "        \n",
    "    def remove_book(self, book):\n",
    "        if book in self.book_list:\n",
    "            return self.book_list.remove(book.title)\n",
    "    \n",
    "    @property\n",
    "    def info(self):\n",
    "        return(\n",
    "            f'도서관명 : {self.name}\\n'\n",
    "            f'가지고 있는 도서 목록 : {self.book_list}'\n",
    "        )\n",
    "    \n",
    "class Book():\n",
    "    def __init__(self, title):\n",
    "        self.title = title\n",
    "        self.location = ''\n",
    "    \n",
    "        \n",
    "    @property\n",
    "    def is_borrowed(self):\n",
    "        if self in library.book_list:\n",
    "            return f'이 책은 {library.name}에 있어.'\n",
    "        else:\n",
    "            return f'이 책은 {user.name}에 있어.'\n",
    "    \n",
    "    \n",
    "class User():\n",
    "    def __init__(self, name):\n",
    "        self.name = name\n",
    "        self.book_list = []\n",
    "        \n",
    "    def borrow_book(self, library, book):\n",
    "        if book in library.book_list:\n",
    "            self.book_list.append(book.title)\n",
    "            library.book_list.remove(book.title)\n",
    "        \n",
    "        print(f'{book.title}을 {library.name}에서 빌려옴')\n",
    "        \n",
    "    \n",
    "    def return_book(self, library, book):\n",
    "        pass\n",
    "    \n",
    "    @property\n",
    "    def info(self):\n",
    "        print(f'가지고 있는 도서 목록: {self.book_list}')"
   ]
  },
  {
   "cell_type": "code",
   "execution_count": 10,
   "metadata": {},
   "outputs": [],
   "source": [
    "library = Library('중랑도서관')\n",
    "u1 = User('권순우')"
   ]
  },
  {
   "cell_type": "code",
   "execution_count": 11,
   "metadata": {},
   "outputs": [],
   "source": [
    "b1 = Book('파이썬 개어려움')\n",
    "b2 = Book('그럼 장고는 쉽냐')\n",
    "b3 = Book('프로그래밍은 다음 생애에..')\n",
    "b4 = Book('가즈아')"
   ]
  },
  {
   "cell_type": "code",
   "execution_count": 12,
   "metadata": {},
   "outputs": [],
   "source": [
    "library.add_book(b1)\n",
    "library.add_book(b2)\n",
    "library.add_book(b3)\n",
    "library.add_book(b4)"
   ]
  },
  {
   "cell_type": "code",
   "execution_count": 13,
   "metadata": {},
   "outputs": [
    {
     "name": "stdout",
     "output_type": "stream",
     "text": [
      "도서관명 : 중랑도서관\n",
      "가지고 있는 도서 목록 : ['파이썬 개어려움', '그럼 장고는 쉽냐', '프로그래밍은 다음 생애에..', '가즈아']\n"
     ]
    }
   ],
   "source": [
    "library.info"
   ]
  },
  {
   "cell_type": "code",
   "execution_count": 14,
   "metadata": {},
   "outputs": [
    {
     "name": "stdout",
     "output_type": "stream",
     "text": [
      "파이썬 개어려움을 중랑도서관에서 빌려옴\n"
     ]
    }
   ],
   "source": [
    "u1.borrow_book(library, b1)"
   ]
  },
  {
   "cell_type": "code",
   "execution_count": 15,
   "metadata": {},
   "outputs": [
    {
     "data": {
      "text/plain": [
       "[]"
      ]
     },
     "execution_count": 15,
     "metadata": {},
     "output_type": "execute_result"
    }
   ],
   "source": [
    "u1.book_list"
   ]
  },
  {
   "cell_type": "code",
   "execution_count": 16,
   "metadata": {},
   "outputs": [
    {
     "name": "stdout",
     "output_type": "stream",
     "text": [
      "도서관명 : 중랑도서관\n",
      "가지고 있는 도서 목록 : ['파이썬 개어려움', '그럼 장고는 쉽냐', '프로그래밍은 다음 생애에..', '가즈아']\n"
     ]
    }
   ],
   "source": [
    "library.info"
   ]
  },
  {
   "cell_type": "code",
   "execution_count": null,
   "metadata": {},
   "outputs": [],
   "source": []
  },
  {
   "cell_type": "code",
   "execution_count": null,
   "metadata": {},
   "outputs": [],
   "source": []
  }
 ],
 "metadata": {
  "kernelspec": {
   "display_name": "Python 3",
   "language": "python",
   "name": "python3"
  },
  "language_info": {
   "codemirror_mode": {
    "name": "ipython",
    "version": 3
   },
   "file_extension": ".py",
   "mimetype": "text/x-python",
   "name": "python",
   "nbconvert_exporter": "python",
   "pygments_lexer": "ipython3",
   "version": "3.6.6"
  }
 },
 "nbformat": 4,
 "nbformat_minor": 2
}
