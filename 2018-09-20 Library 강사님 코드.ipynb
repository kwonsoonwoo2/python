{
 "cells": [
  {
   "cell_type": "code",
   "execution_count": 287,
   "metadata": {},
   "outputs": [],
   "source": [
    "class Library:\n",
    "    def __init__(self, name, book_list):\n",
    "        self.name = name\n",
    "        self.book_list = book_list\n",
    "        \n",
    "    def __repr__(self):\n",
    "        return f'Library ({self.name}, id : {id(self)})'\n",
    "    \n",
    "    def __str__(self):\n",
    "        return self.name\n",
    "\n",
    "    def add_book(self, book_title):\n",
    "        \"\"\"\n",
    "        입력받은 book_name에 해당하는 Book(Book인스턴스)이 자신의 book_list에 없다면\n",
    "        새로운 Book을 만들어 추가\n",
    "        \"\"\"\n",
    "        for book in self.book_list:\n",
    "            if book.title == book_title:\n",
    "                print('이미 소장중인 도서입니다')\n",
    "                break\n",
    "        else:\n",
    "            self.book_list.append(Book(book_title, self))\n",
    "            print(f'책({book_title})이 소장 도서에 추가되었습니다')\n",
    "            \n",
    "        \n",
    "    \n",
    "    def remove_book(self, book_title):\n",
    "        \"\"\"\n",
    "        입력받은 book_name에 해당하는 Book이 자신의 book_list에 있다면 삭제\n",
    "        \"\"\"\n",
    "        for book in self.book_list:\n",
    "            if book.title == book_title:\n",
    "                self.book_list.remove(book)\n",
    "                print('책({book_title})이 소장 도서에서 삭제되었습니다')\n",
    "                break\n",
    "        else:\n",
    "            print('소장중인 도서가 아닙니다')\n",
    "    \n",
    "    \n",
    "    @property\n",
    "    def info(self):\n",
    "        \"\"\"\n",
    "        자신이 가진 도서 목록(book_list)에 대한 정보를 적절히 텍스트로 리턴\n",
    "        ex) 성수도서관\n",
    "        \n",
    "        성수도서관 도서 목록\n",
    "        1. 처음 시작하는 파이썬\n",
    "        2. 처음보는 책\n",
    "        ...\n",
    "        \n",
    "        총 12권 소장 중\n",
    "        \"\"\"\n",
    "#         result = ''\n",
    "#         result += f'{self.name} 도서 목록\\n'\n",
    "#         for index, book in enumerate(self.book_list, start=1):\n",
    "#             result += f'{index}.{book.title}\\n'\n",
    "#         result += f'총{len(self.book_list)}권 소장 중'\n",
    "#         return result\n",
    "    \n",
    "        return '{info_title}\\n{book_list}\\n{total}'.format(\n",
    "            info_title = f'{self.name} 도서 목록',\n",
    "            book_list = '\\n'.join([f'{index}, {book.title}' for index, book in enumerate(self.book_list, start=1)]),\n",
    "            total = f'총 {len(self.book_list)}권 소장 중',\n",
    "        )"
   ]
  },
  {
   "cell_type": "code",
   "execution_count": 300,
   "metadata": {},
   "outputs": [],
   "source": [
    "class Book:\n",
    "    book_list = []\n",
    "    \n",
    "    \n",
    "    def __init__(self, title, location):\n",
    "        \"\"\"\n",
    "        초기화시 location에 Library인스턴스를 지정한다\n",
    "        \"\"\"\n",
    "        self.title = title\n",
    "        self.location = location\n",
    "        self.book_list.append(self)\n",
    "        \n",
    "    @classmethod\n",
    "    def show_total_book_info(cls):\n",
    "        \"\"\"\n",
    "        모든 책 정보 문자열을 리턴\n",
    "        \n",
    "        도서 목록\n",
    "        1. 처음 시작하는 파이썬(성수도서관)\n",
    "        2. 전문가를 위한 파이썬(건대도서관)\n",
    "        총 2권\n",
    "        \"\"\"\n",
    "        print('도서목록\\n{book_list}\\n{total}'.format(\n",
    "            book_list = '\\n'.join([f'{index}], {book.title}, ({book.location})' for index, book in enumerate(cls.book_list, start=1)]),\n",
    "            total = f'총 {len(cls.book_list)}권'\n",
    "        ))\n",
    "        \n",
    "    def __repr__(self):\n",
    "        return f'Book ({self.title}, id : {id(self)})'\n",
    "    \n",
    "    def __str__(self):\n",
    "        return self.title\n",
    "    \n",
    "    @property\n",
    "    def is_borrowed(self):\n",
    "        \"\"\"\n",
    "        자신의 location이\n",
    "        User면 True\n",
    "        Library면 False\n",
    "        \"\"\"\n",
    "        isinstance(self.location, User):\n",
    "            return True\n",
    "        else:\n",
    "            return False"
   ]
  },
  {
   "cell_type": "code",
   "execution_count": 301,
   "metadata": {},
   "outputs": [],
   "source": [
    "class User:\n",
    "    def __init__(self, name, book_list=None):\n",
    "        self.name = name\n",
    "        self.book_list = book_list if book_list else []\n",
    "        \n",
    "    def __repr__(self):\n",
    "        return f'User ({self.name}, id : {id(self)})'\n",
    "    \n",
    "    \n",
    "    def __str__(self):\n",
    "        return self.name\n",
    "        \n",
    "    def borrow_book(self, library, book_title):\n",
    "        \"\"\"\n",
    "        library에서 book_name에 해당하는 Book을 자신의 book_list로 가져옴\n",
    "        \"\"\"\n",
    "        for book in library.book_list:\n",
    "            if book.title == book_title:\n",
    "                self.book_list.append(book)\n",
    "                library.book_list.remove(book)\n",
    "                # 빌려온 Book의 location속성값을 자신 (User.instance)으로 변경\n",
    "                book.location = self\n",
    "                print(f'책 ({book.title})을 {library.name}으로부터 빌려옴')\n",
    "                break\n",
    "        else:\n",
    "            print(f'해당 도서가 {library.name}에 없습니다')\n",
    "    \n",
    "    def return_book(self, library, book_title):\n",
    "        \"\"\"\n",
    "        library에 book_name에 해당하는 Book을 자신의 book_list에서 건네줌\n",
    "        \"\"\"\n",
    "        for book in library.book_list:\n",
    "            if book.title == book_title:\n",
    "                self.book_list.remove(book)\n",
    "                library.book_list.append(book)\n",
    "                # 빌려온 Book의 location속성값을 도서관 (Library.instance)으로 변경\n",
    "                book.location = library\n",
    "                print(f'책 ({book.title})을 {library.name}로 반납함')\n",
    "                break\n",
    "        else:\n",
    "            print(f'해당 도서를 가지고 있지 않습니다.')"
   ]
  },
  {
   "cell_type": "code",
   "execution_count": 302,
   "metadata": {},
   "outputs": [],
   "source": [
    "library1 = Library('성수도서관', [])"
   ]
  },
  {
   "cell_type": "code",
   "execution_count": 303,
   "metadata": {},
   "outputs": [
    {
     "name": "stdout",
     "output_type": "stream",
     "text": [
      "책(처음 시작하는 파이썬)이 소장 도서에 추가되었습니다\n"
     ]
    }
   ],
   "source": [
    "library1.add_book('처음 시작하는 파이썬')"
   ]
  },
  {
   "cell_type": "code",
   "execution_count": 304,
   "metadata": {},
   "outputs": [
    {
     "name": "stdout",
     "output_type": "stream",
     "text": [
      "이미 소장중인 도서입니다\n"
     ]
    }
   ],
   "source": [
    "library1.add_book('처음 시작하는 파이썬')"
   ]
  },
  {
   "cell_type": "code",
   "execution_count": 305,
   "metadata": {},
   "outputs": [
    {
     "data": {
      "text/plain": [
       "'성수도서관 도서 목록\\n1, 처음 시작하는 파이썬\\n총 1권 소장 중'"
      ]
     },
     "execution_count": 305,
     "metadata": {},
     "output_type": "execute_result"
    }
   ],
   "source": [
    "library1.info"
   ]
  },
  {
   "cell_type": "code",
   "execution_count": 306,
   "metadata": {},
   "outputs": [
    {
     "name": "stdout",
     "output_type": "stream",
     "text": [
      "책 (처음 시작하는 파이썬)을 성수도서관으로부터 빌려옴\n"
     ]
    }
   ],
   "source": [
    "user1 = User('권순우')\n",
    "user1.borrow_book(library1, '처음 시작하는 파이썬')"
   ]
  },
  {
   "cell_type": "code",
   "execution_count": 307,
   "metadata": {},
   "outputs": [
    {
     "data": {
      "text/plain": [
       "[Book (처음 시작하는 파이썬, id : 140303500564520)]"
      ]
     },
     "execution_count": 307,
     "metadata": {},
     "output_type": "execute_result"
    }
   ],
   "source": [
    "user1.book_list"
   ]
  },
  {
   "cell_type": "code",
   "execution_count": 308,
   "metadata": {},
   "outputs": [
    {
     "data": {
      "text/plain": [
       "[]"
      ]
     },
     "execution_count": 308,
     "metadata": {},
     "output_type": "execute_result"
    }
   ],
   "source": [
    "library1.book_list"
   ]
  },
  {
   "cell_type": "code",
   "execution_count": 309,
   "metadata": {},
   "outputs": [
    {
     "data": {
      "text/plain": [
       "[Book (처음 시작하는 파이썬, id : 140303500564520)]"
      ]
     },
     "execution_count": 309,
     "metadata": {},
     "output_type": "execute_result"
    }
   ],
   "source": [
    "Book.book_list"
   ]
  },
  {
   "cell_type": "code",
   "execution_count": 310,
   "metadata": {},
   "outputs": [
    {
     "name": "stdout",
     "output_type": "stream",
     "text": [
      "책(전문가를 위한 파이썬)이 소장 도서에 추가되었습니다\n"
     ]
    }
   ],
   "source": [
    "library2 = Library('건대 도서관', [])\n",
    "library2.add_book('전문가를 위한 파이썬')"
   ]
  },
  {
   "cell_type": "code",
   "execution_count": 311,
   "metadata": {},
   "outputs": [
    {
     "name": "stdout",
     "output_type": "stream",
     "text": [
      "도서목록\n",
      "1], 처음 시작하는 파이썬, (성수도서관)\n",
      "2], 전문가를 위한 파이썬, (건대 도서관)\n",
      "총 2권\n"
     ]
    }
   ],
   "source": [
    "Book.show_total_book_info()"
   ]
  },
  {
   "cell_type": "code",
   "execution_count": null,
   "metadata": {},
   "outputs": [],
   "source": []
  },
  {
   "cell_type": "code",
   "execution_count": null,
   "metadata": {},
   "outputs": [],
   "source": []
  },
  {
   "cell_type": "code",
   "execution_count": null,
   "metadata": {},
   "outputs": [],
   "source": []
  }
 ],
 "metadata": {
  "kernelspec": {
   "display_name": "Python 3",
   "language": "python",
   "name": "python3"
  },
  "language_info": {
   "codemirror_mode": {
    "name": "ipython",
    "version": 3
   },
   "file_extension": ".py",
   "mimetype": "text/x-python",
   "name": "python",
   "nbconvert_exporter": "python",
   "pygments_lexer": "ipython3",
   "version": "3.6.6"
  }
 },
 "nbformat": 4,
 "nbformat_minor": 2
}
