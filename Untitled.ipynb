{
 "cells": [
  {
   "cell_type": "code",
   "execution_count": 4,
   "metadata": {},
   "outputs": [],
   "source": [
    "sample = [\n",
    "    [1,2,3],\n",
    "    [4,5,6],\n",
    "    [7,8,9],\n",
    "]"
   ]
  },
  {
   "cell_type": "code",
   "execution_count": 7,
   "metadata": {},
   "outputs": [],
   "source": [
    "find = 8"
   ]
  },
  {
   "cell_type": "code",
   "execution_count": 8,
   "metadata": {},
   "outputs": [],
   "source": [
    "# find라는 변수가 가진 값이 sample을 순회하며 순회하는 item안에 존재하지 않았다면\n",
    "# '찾지못함'이라는 문자열을 print\n",
    "# 존재한다면 해당 순간에 find에 해당하는 값을 찾았음을 알리고 break로 for loop탈출, \n",
    "# 찾지못함 이라는 문자열은 보여주지 않음.\n",
    "\n",
    "# for-else를 쓰지 않고 구현 (for문 외부에 찾음/찾지못함을 저장할 변수 하나 필요)\n",
    "\n",
    "# for-else문을 사용할때는 for문 외부에 변수없이 구현 가능. 만들어보기"
   ]
  },
  {
   "cell_type": "code",
   "execution_count": 10,
   "metadata": {},
   "outputs": [
    {
     "name": "stdout",
     "output_type": "stream",
     "text": [
      "8를 찾음\n"
     ]
    }
   ],
   "source": [
    "for item in sample:\n",
    "    if find in item:\n",
    "        print(f'{find}를 찾음')\n",
    "        break\n",
    "else:\n",
    "    print(f'{find}를 찾지 못함')"
   ]
  },
  {
   "cell_type": "code",
   "execution_count": 12,
   "metadata": {},
   "outputs": [
    {
     "name": "stdout",
     "output_type": "stream",
     "text": [
      "8를 찾음\n"
     ]
    }
   ],
   "source": [
    "for item in sample:\n",
    "    if find in item:\n",
    "        print(f'{find}를 찾음')"
   ]
  },
  {
   "cell_type": "code",
   "execution_count": 67,
   "metadata": {},
   "outputs": [
    {
     "name": "stdout",
     "output_type": "stream",
     "text": [
      "fruit: apple, color: red\n",
      "fruit: banana, color: yellow\n",
      "fruit: melon, color: green\n",
      "fruit: grape, color: purple\n"
     ]
    }
   ],
   "source": [
    "fruits = 'apple,banana,melon,grape,orange'.split(',')\n",
    "colors = 'red yellow green purple'.split()\n",
    "\n",
    "for fruit, color in zip(fruits, colors):\n",
    "    print(f'fruit: {fruit}, color: {color}')"
   ]
  },
  {
   "cell_type": "code",
   "execution_count": 68,
   "metadata": {},
   "outputs": [
    {
     "name": "stdout",
     "output_type": "stream",
     "text": [
      "grape apple\n",
      "grape banana\n",
      "grape melon\n",
      "grape grape\n"
     ]
    }
   ],
   "source": [
    "# (index, <object>)\n",
    "# fruits가 더 길어도 오류가 나지 않도록\n",
    "# 1. 순회하는 iterable한 객체를 바꾸기 (더 짧은 걸로)\n",
    "# 2. 순회중에 반대쪽 리스트의 index를 넘어가는 경우에 대한 처리\n",
    "short_list = fruits\n",
    "long_list = colors\n",
    "if len(fruits) > len(colors):\n",
    "    short_list = colors\n",
    "    long_list = fruits\n",
    "# 조건표현식\n",
    "# 튜플언패킹\n",
    "\n",
    "short_list, long_list = (colors, fruits) if len(fruits) > len(colors) else (fruits, colors)\n",
    "\n",
    "\n",
    "for index, item in enumerate(short_list):\n",
    "    print(fruit, long_list[index])"
   ]
  },
  {
   "cell_type": "code",
   "execution_count": 69,
   "metadata": {},
   "outputs": [
    {
     "name": "stdout",
     "output_type": "stream",
     "text": [
      "['red', 'yellow', 'green', 'purple']\n"
     ]
    }
   ],
   "source": [
    "short = min([fruits, colors], key = len)\n",
    "print(short)"
   ]
  },
  {
   "cell_type": "code",
   "execution_count": 71,
   "metadata": {},
   "outputs": [
    {
     "name": "stdout",
     "output_type": "stream",
     "text": [
      "grape red\n",
      "grape yellow\n",
      "grape green\n",
      "grape purple\n"
     ]
    },
    {
     "ename": "IndexError",
     "evalue": "list index out of range",
     "output_type": "error",
     "traceback": [
      "\u001b[0;31m---------------------------------------------------------------------------\u001b[0m",
      "\u001b[0;31mIndexError\u001b[0m                                Traceback (most recent call last)",
      "\u001b[0;32m<ipython-input-71-02b2a5e1f2ad>\u001b[0m in \u001b[0;36m<module>\u001b[0;34m()\u001b[0m\n\u001b[1;32m      4\u001b[0m \u001b[0;31m# 어느 loop index에서 멈춰야하는가\u001b[0m\u001b[0;34m\u001b[0m\u001b[0;34m\u001b[0m\u001b[0m\n\u001b[1;32m      5\u001b[0m \u001b[0;32mfor\u001b[0m \u001b[0mindex\u001b[0m\u001b[0;34m,\u001b[0m \u001b[0mitem\u001b[0m \u001b[0;32min\u001b[0m \u001b[0menumerate\u001b[0m\u001b[0;34m(\u001b[0m\u001b[0mfruits\u001b[0m\u001b[0;34m)\u001b[0m\u001b[0;34m:\u001b[0m\u001b[0;34m\u001b[0m\u001b[0m\n\u001b[0;32m----> 6\u001b[0;31m     \u001b[0mprint\u001b[0m\u001b[0;34m(\u001b[0m\u001b[0mfruit\u001b[0m\u001b[0;34m,\u001b[0m \u001b[0mcolors\u001b[0m\u001b[0;34m[\u001b[0m\u001b[0mindex\u001b[0m\u001b[0;34m]\u001b[0m\u001b[0;34m)\u001b[0m\u001b[0;34m\u001b[0m\u001b[0m\n\u001b[0m",
      "\u001b[0;31mIndexError\u001b[0m: list index out of range"
     ]
    }
   ],
   "source": [
    "len_colors = len(colors)\n",
    "# fruits가 총 5개\n",
    "# colors는 총 4개\n",
    "# 어느 loop index에서 멈춰야하는가\n",
    "for index, item in enumerate(fruits):\n",
    "    print(fruit, colors[index])"
   ]
  },
  {
   "cell_type": "code",
   "execution_count": 72,
   "metadata": {},
   "outputs": [
    {
     "data": {
      "text/plain": [
       "[2, 4, 6, 8, 10]"
      ]
     },
     "execution_count": 72,
     "metadata": {},
     "output_type": "execute_result"
    }
   ],
   "source": [
    "[item*2 for item in range(1, 6)]"
   ]
  },
  {
   "cell_type": "code",
   "execution_count": 74,
   "metadata": {},
   "outputs": [
    {
     "data": {
      "text/plain": [
       "[2, 4]"
      ]
     },
     "execution_count": 74,
     "metadata": {},
     "output_type": "execute_result"
    }
   ],
   "source": [
    "[item for item in range(1, 6) if item % 2 == 0]"
   ]
  },
  {
   "cell_type": "code",
   "execution_count": 75,
   "metadata": {},
   "outputs": [
    {
     "name": "stdout",
     "output_type": "stream",
     "text": [
      "[('red', 'apple'), ('red', 'banana'), ('red', 'melon'), ('red', 'grape'), ('red', 'orange'), ('yellow', 'apple'), ('yellow', 'banana'), ('yellow', 'melon'), ('yellow', 'grape'), ('yellow', 'orange'), ('green', 'apple'), ('green', 'banana'), ('green', 'melon'), ('green', 'grape'), ('green', 'orange'), ('purple', 'apple'), ('purple', 'banana'), ('purple', 'melon'), ('purple', 'grape'), ('purple', 'orange')]\n"
     ]
    }
   ],
   "source": [
    "results = []\n",
    "for color in colors:\n",
    "    for fruit in fruits:\n",
    "        results.append((color,fruit))\n",
    "        \n",
    "print(results)"
   ]
  },
  {
   "cell_type": "code",
   "execution_count": 76,
   "metadata": {},
   "outputs": [
    {
     "data": {
      "text/plain": [
       "[('red', 'apple'),\n",
       " ('red', 'banana'),\n",
       " ('red', 'melon'),\n",
       " ('red', 'grape'),\n",
       " ('red', 'orange'),\n",
       " ('yellow', 'apple'),\n",
       " ('yellow', 'banana'),\n",
       " ('yellow', 'melon'),\n",
       " ('yellow', 'grape'),\n",
       " ('yellow', 'orange'),\n",
       " ('green', 'apple'),\n",
       " ('green', 'banana'),\n",
       " ('green', 'melon'),\n",
       " ('green', 'grape'),\n",
       " ('green', 'orange'),\n",
       " ('purple', 'apple'),\n",
       " ('purple', 'banana'),\n",
       " ('purple', 'melon'),\n",
       " ('purple', 'grape'),\n",
       " ('purple', 'orange')]"
      ]
     },
     "execution_count": 76,
     "metadata": {},
     "output_type": "execute_result"
    }
   ],
   "source": [
    "[(color, fruit)\n",
    "    for color in colors\n",
    "        for fruit in fruits]"
   ]
  },
  {
   "cell_type": "code",
   "execution_count": 77,
   "metadata": {},
   "outputs": [
    {
     "name": "stdout",
     "output_type": "stream",
     "text": [
      "(0,0)\n",
      "(0,1)\n",
      "(0,2)\n",
      "(0,3)\n",
      "(1,0)\n",
      "(1,1)\n",
      "(1,2)\n",
      "(1,3)\n",
      "(2,0)\n",
      "(2,1)\n",
      "(2,2)\n",
      "(2,3)\n",
      "(3,0)\n",
      "(3,1)\n",
      "(3,2)\n",
      "(3,3)\n",
      "(4,0)\n",
      "(4,1)\n",
      "(4,2)\n",
      "(4,3)\n",
      "(5,0)\n",
      "(5,1)\n",
      "(5,2)\n",
      "(5,3)\n",
      "(6,0)\n",
      "(6,1)\n",
      "(6,2)\n",
      "(6,3)\n"
     ]
    }
   ],
   "source": [
    "for i in range(7):\n",
    "    for j in range(4):\n",
    "        print(f'({i},{j})')"
   ]
  },
  {
   "cell_type": "code",
   "execution_count": 78,
   "metadata": {},
   "outputs": [
    {
     "data": {
      "text/plain": [
       "[(0, 0),\n",
       " (0, 1),\n",
       " (0, 2),\n",
       " (0, 3),\n",
       " (1, 0),\n",
       " (1, 1),\n",
       " (1, 2),\n",
       " (1, 3),\n",
       " (2, 0),\n",
       " (2, 1),\n",
       " (2, 2),\n",
       " (2, 3),\n",
       " (3, 0),\n",
       " (3, 1),\n",
       " (3, 2),\n",
       " (3, 3),\n",
       " (4, 0),\n",
       " (4, 1),\n",
       " (4, 2),\n",
       " (4, 3),\n",
       " (5, 0),\n",
       " (5, 1),\n",
       " (5, 2),\n",
       " (5, 3),\n",
       " (6, 0),\n",
       " (6, 1),\n",
       " (6, 2),\n",
       " (6, 3)]"
      ]
     },
     "execution_count": 78,
     "metadata": {},
     "output_type": "execute_result"
    }
   ],
   "source": [
    "[(i,j) for i in range(7) for j in range(4)]"
   ]
  },
  {
   "cell_type": "code",
   "execution_count": 80,
   "metadata": {},
   "outputs": [
    {
     "name": "stdout",
     "output_type": "stream",
     "text": [
      "(0,0)\n",
      "(0,1)\n",
      "(0,2)\n",
      "(0,3)\n",
      "(2,0)\n",
      "(2,1)\n",
      "(2,2)\n",
      "(2,3)\n",
      "(4,0)\n",
      "(4,1)\n",
      "(4,2)\n",
      "(4,3)\n",
      "(6,0)\n",
      "(6,1)\n",
      "(6,2)\n",
      "(6,3)\n"
     ]
    }
   ],
   "source": [
    "results = []\n",
    "for i in range(7):\n",
    "    if i % 2 == 0:\n",
    "        for j in range(4):\n",
    "            print(f'({i},{j})')"
   ]
  },
  {
   "cell_type": "code",
   "execution_count": 81,
   "metadata": {},
   "outputs": [
    {
     "data": {
      "text/plain": [
       "[(0, 0),\n",
       " (0, 1),\n",
       " (0, 2),\n",
       " (0, 3),\n",
       " (2, 0),\n",
       " (2, 1),\n",
       " (2, 2),\n",
       " (2, 3),\n",
       " (4, 0),\n",
       " (4, 1),\n",
       " (4, 2),\n",
       " (4, 3),\n",
       " (6, 0),\n",
       " (6, 1),\n",
       " (6, 2),\n",
       " (6, 3)]"
      ]
     },
     "execution_count": 81,
     "metadata": {},
     "output_type": "execute_result"
    }
   ],
   "source": [
    "[(i,j) for i in range(7) for j in range(4) if i % 2 == 0]"
   ]
  },
  {
   "cell_type": "code",
   "execution_count": 91,
   "metadata": {},
   "outputs": [
    {
     "name": "stdout",
     "output_type": "stream",
     "text": [
      "750000\n"
     ]
    }
   ],
   "source": [
    "results = 0\n",
    "for item in range(1000, 2001):\n",
    "    if item % 2 != 0:\n",
    "        results += item\n",
    "        \n",
    "print(results)"
   ]
  },
  {
   "cell_type": "code",
   "execution_count": 140,
   "metadata": {},
   "outputs": [
    {
     "name": "stdout",
     "output_type": "stream",
     "text": [
      "2\n",
      "4\n",
      "6\n",
      "8\n",
      "10\n",
      "12\n",
      "14\n",
      "16\n",
      "18\n",
      "\n",
      "3\n",
      "6\n",
      "9\n",
      "12\n",
      "15\n",
      "18\n",
      "21\n",
      "24\n",
      "27\n",
      "\n",
      "4\n",
      "8\n",
      "12\n",
      "16\n",
      "20\n",
      "24\n",
      "28\n",
      "32\n",
      "36\n",
      "\n",
      "5\n",
      "10\n",
      "15\n",
      "20\n",
      "25\n",
      "30\n",
      "35\n",
      "40\n",
      "45\n",
      "\n",
      "6\n",
      "12\n",
      "18\n",
      "24\n",
      "30\n",
      "36\n",
      "42\n",
      "48\n",
      "54\n",
      "\n",
      "7\n",
      "14\n",
      "21\n",
      "28\n",
      "35\n",
      "42\n",
      "49\n",
      "56\n",
      "63\n",
      "\n",
      "8\n",
      "16\n",
      "24\n",
      "32\n",
      "40\n",
      "48\n",
      "56\n",
      "64\n",
      "72\n",
      "\n",
      "9\n",
      "18\n",
      "27\n",
      "36\n",
      "45\n",
      "54\n",
      "63\n",
      "72\n",
      "81\n",
      "\n"
     ]
    }
   ],
   "source": [
    "c = [(a*b) for a in range(2, 10) for b in range(1, 10)]\n",
    "for index, item in enumerate(c):\n",
    "    print(index + 1, item)\n",
    "    if index % 9 == 8:\n",
    "        print('')"
   ]
  },
  {
   "cell_type": "code",
   "execution_count": 138,
   "metadata": {},
   "outputs": [
    {
     "name": "stdout",
     "output_type": "stream",
     "text": [
      "2단\n",
      "\n",
      "f{x}x{y} = {x*y}\n",
      "f{x}x{y} = {x*y}\n",
      "f{x}x{y} = {x*y}\n",
      "f{x}x{y} = {x*y}\n",
      "f{x}x{y} = {x*y}\n",
      "f{x}x{y} = {x*y}\n",
      "f{x}x{y} = {x*y}\n",
      "f{x}x{y} = {x*y}\n",
      "f{x}x{y} = {x*y}\n",
      "3단\n",
      "\n",
      "f{x}x{y} = {x*y}\n",
      "f{x}x{y} = {x*y}\n",
      "f{x}x{y} = {x*y}\n",
      "f{x}x{y} = {x*y}\n",
      "f{x}x{y} = {x*y}\n",
      "f{x}x{y} = {x*y}\n",
      "f{x}x{y} = {x*y}\n",
      "f{x}x{y} = {x*y}\n",
      "f{x}x{y} = {x*y}\n",
      "4단\n",
      "\n",
      "f{x}x{y} = {x*y}\n",
      "f{x}x{y} = {x*y}\n",
      "f{x}x{y} = {x*y}\n",
      "f{x}x{y} = {x*y}\n",
      "f{x}x{y} = {x*y}\n",
      "f{x}x{y} = {x*y}\n",
      "f{x}x{y} = {x*y}\n",
      "f{x}x{y} = {x*y}\n",
      "f{x}x{y} = {x*y}\n",
      "5단\n",
      "\n",
      "f{x}x{y} = {x*y}\n",
      "f{x}x{y} = {x*y}\n",
      "f{x}x{y} = {x*y}\n",
      "f{x}x{y} = {x*y}\n",
      "f{x}x{y} = {x*y}\n",
      "f{x}x{y} = {x*y}\n",
      "f{x}x{y} = {x*y}\n",
      "f{x}x{y} = {x*y}\n",
      "f{x}x{y} = {x*y}\n",
      "6단\n",
      "\n",
      "f{x}x{y} = {x*y}\n",
      "f{x}x{y} = {x*y}\n",
      "f{x}x{y} = {x*y}\n",
      "f{x}x{y} = {x*y}\n",
      "f{x}x{y} = {x*y}\n",
      "f{x}x{y} = {x*y}\n",
      "f{x}x{y} = {x*y}\n",
      "f{x}x{y} = {x*y}\n",
      "f{x}x{y} = {x*y}\n",
      "7단\n",
      "\n",
      "f{x}x{y} = {x*y}\n",
      "f{x}x{y} = {x*y}\n",
      "f{x}x{y} = {x*y}\n",
      "f{x}x{y} = {x*y}\n",
      "f{x}x{y} = {x*y}\n",
      "f{x}x{y} = {x*y}\n",
      "f{x}x{y} = {x*y}\n",
      "f{x}x{y} = {x*y}\n",
      "f{x}x{y} = {x*y}\n",
      "8단\n",
      "\n",
      "f{x}x{y} = {x*y}\n",
      "f{x}x{y} = {x*y}\n",
      "f{x}x{y} = {x*y}\n",
      "f{x}x{y} = {x*y}\n",
      "f{x}x{y} = {x*y}\n",
      "f{x}x{y} = {x*y}\n",
      "f{x}x{y} = {x*y}\n",
      "f{x}x{y} = {x*y}\n",
      "f{x}x{y} = {x*y}\n",
      "9단\n",
      "\n",
      "f{x}x{y} = {x*y}\n",
      "f{x}x{y} = {x*y}\n",
      "f{x}x{y} = {x*y}\n",
      "f{x}x{y} = {x*y}\n",
      "f{x}x{y} = {x*y}\n",
      "f{x}x{y} = {x*y}\n",
      "f{x}x{y} = {x*y}\n",
      "f{x}x{y} = {x*y}\n",
      "f{x}x{y} = {x*y}\n"
     ]
    }
   ],
   "source": [
    "for x in range(2, 10):\n",
    "    print(f'{x}단')\n",
    "    print('')\n",
    "    for y in range(1, 10):\n",
    "        print('f{x}x{y} = {x*y}')"
   ]
  },
  {
   "cell_type": "code",
   "execution_count": 121,
   "metadata": {},
   "outputs": [
    {
     "name": "stdout",
     "output_type": "stream",
     "text": [
      "[7, 9, 14, 18, 21, 27, 28, 35, 36, 42, 45, 49, 54, 56, 63, 70, 72, 77, 81, 84, 90, 91, 98, 99]\n"
     ]
    }
   ],
   "source": [
    "num_list = []\n",
    "for number in range(1, 100):\n",
    "    if number % 7 == 0 or number % 9 == 0:\n",
    "        num_list.append(number)\n",
    "        \n",
    "print(num_list)"
   ]
  },
  {
   "cell_type": "code",
   "execution_count": null,
   "metadata": {},
   "outputs": [],
   "source": []
  }
 ],
 "metadata": {
  "kernelspec": {
   "display_name": "Python 3",
   "language": "python",
   "name": "python3"
  },
  "language_info": {
   "codemirror_mode": {
    "name": "ipython",
    "version": 3
   },
   "file_extension": ".py",
   "mimetype": "text/x-python",
   "name": "python",
   "nbconvert_exporter": "python",
   "pygments_lexer": "ipython3",
   "version": "3.6.6"
  }
 },
 "nbformat": 4,
 "nbformat_minor": 2
}
